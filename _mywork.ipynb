{
 "cells": [
  {
   "cell_type": "code",
   "execution_count": 63,
   "id": "38cc8548",
   "metadata": {},
   "outputs": [],
   "source": [
    "import requests\n",
    "import csv\n",
    "import pandas as pd\n"
   ]
  },
  {
   "cell_type": "code",
   "execution_count": 105,
   "id": "0cd22c1f",
   "metadata": {},
   "outputs": [],
   "source": [
    "data= requests.get(\"https://dummyjson.com/users\")"
   ]
  },
  {
   "cell_type": "code",
   "execution_count": 106,
   "id": "0c47cca4",
   "metadata": {},
   "outputs": [
    {
     "data": {
      "text/plain": [
       "<Response [200]>"
      ]
     },
     "execution_count": 106,
     "metadata": {},
     "output_type": "execute_result"
    }
   ],
   "source": [
    "data"
   ]
  },
  {
   "cell_type": "code",
   "execution_count": 107,
   "id": "b1f43d58",
   "metadata": {},
   "outputs": [],
   "source": [
    "data=data.json()"
   ]
  },
  {
   "cell_type": "code",
   "execution_count": 90,
   "id": "9dfd6aef",
   "metadata": {},
   "outputs": [],
   "source": [
    "# df= pd.DataFrame(data['users'])"
   ]
  },
  {
   "cell_type": "code",
   "execution_count": 91,
   "id": "c957858b",
   "metadata": {},
   "outputs": [],
   "source": [
    "# #notice that dropna is for neglect only intergers ans slices not string\n",
    "# df = df.dropna(subset=['company'])\n"
   ]
  },
  {
   "cell_type": "code",
   "execution_count": 102,
   "id": "eeec73f3",
   "metadata": {},
   "outputs": [],
   "source": [
    "# with open('output00.csv',mode='w',newline='') as txt:\n",
    "#     data=df.to_csv(txt,sep=',')"
   ]
  },
  {
   "cell_type": "code",
   "execution_count": 97,
   "id": "8f98de5d",
   "metadata": {},
   "outputs": [
    {
     "data": {
      "text/plain": [
       "'{\"id\":{\"0\":1,\"1\":2,\"2\":3,\"3\":4,\"4\":5,\"5\":6,\"6\":7,\"7\":8,\"8\":9,\"9\":10,\"10\":11,\"11\":12,\"12\":13,\"13\":14,\"14\":15,\"15\":16,\"16\":17,\"17\":18,\"18\":19,\"19\":20,\"20\":21,\"21\":22,\"22\":23,\"23\":24,\"24\":25,\"25\":26,\"26\":27,\"27\":28,\"28\":29,\"29\":30},\"firstName\":{\"0\":\"Terry\",\"1\":\"Sheldon\",\"2\":\"Terrill\",\"3\":\"Miles\",\"4\":\"Mavis\",\"5\":\"Alison\",\"6\":\"Oleta\",\"7\":\"Ewell\",\"8\":\"Demetrius\",\"9\":\"Eleanora\",\"10\":\"Marcel\",\"11\":\"Assunta\",\"12\":\"Trace\",\"13\":\"Enoch\",\"14\":\"Jeanne\",\"15\":\"Trycia\",\"16\":\"Bradford\",\"17\":\"Arely\",\"18\":\"Gust\",\"19\":\"Lenna\",\"20\":\"Doyle\",\"21\":\"Tressa\",\"22\":\"Felicity\",\"23\":\"Jocelyn\",\"24\":\"Edwina\",\"25\":\"Griffin\",\"26\":\"Piper\",\"27\":\"Kody\",\"28\":\"Macy\",\"29\":\"Maurine\"},\"lastName\":{\"0\":\"Medhurst\",\"1\":\"Quigley\",\"2\":\"Hills\",\"3\":\"Cummerata\",\"4\":\"Schultz\",\"5\":\"Reichert\",\"6\":\"Abbott\",\"7\":\"Mueller\",\"8\":\"Corkery\",\"9\":\"Price\",\"10\":\"Jones\",\"11\":\"Rath\",\"12\":\"Douglas\",\"13\":\"Lynch\",\"14\":\"Halvorson\",\"15\":\"Fadel\",\"16\":\"Prohaska\",\"17\":\"Skiles\",\"18\":\"Purdy\",\"19\":\"Renner\",\"20\":\"Ernser\",\"21\":\"Weber\",\"22\":\"O\\'Reilly\",\"23\":\"Schuster\",\"24\":\"Ernser\",\"25\":\"Braun\",\"26\":\"Schowalter\",\"27\":\"Terry\",\"28\":\"Greenfelder\",\"29\":\"Stracke\"},\"maidenName\":{\"0\":\"Smitham\",\"1\":\"Cole\",\"2\":\"Hoeger\",\"3\":\"Maggio\",\"4\":\"Yundt\",\"5\":\"Franecki\",\"6\":\"Wyman\",\"7\":\"Durgan\",\"8\":\"Gleason\",\"9\":\"Cummings\",\"10\":\"Smith\",\"11\":\"Heller\",\"12\":\"Lemke\",\"13\":\"Heidenreich\",\"14\":\"Cummerata\",\"15\":\"Rosenbaum\",\"16\":\"Bins\",\"17\":\"Monahan\",\"18\":\"Abshire\",\"19\":\"Schumm\",\"20\":\"Feeney\",\"21\":\"Williamson\",\"22\":\"Rosenbaum\",\"23\":\"Dooley\",\"24\":\"Kiehn\",\"25\":\"Deckow\",\"26\":\"Wuckert\",\"27\":\"Larkin\",\"28\":\"Koepp\",\"29\":\"Abshire\"},\"age\":{\"0\":50,\"1\":28,\"2\":38,\"3\":49,\"4\":38,\"5\":21,\"6\":31,\"7\":29,\"8\":22,\"9\":37,\"10\":39,\"11\":42,\"12\":26,\"13\":21,\"14\":26,\"15\":41,\"16\":43,\"17\":42,\"18\":46,\"19\":41,\"20\":23,\"21\":41,\"22\":46,\"23\":19,\"24\":21,\"25\":35,\"26\":47,\"27\":28,\"28\":45,\"29\":31},\"gender\":{\"0\":\"male\",\"1\":\"male\",\"2\":\"male\",\"3\":\"male\",\"4\":\"male\",\"5\":\"female\",\"6\":\"female\",\"7\":\"male\",\"8\":\"male\",\"9\":\"female\",\"10\":\"male\",\"11\":\"female\",\"12\":\"male\",\"13\":\"male\",\"14\":\"female\",\"15\":\"female\",\"16\":\"male\",\"17\":\"male\",\"18\":\"male\",\"19\":\"female\",\"20\":\"male\",\"21\":\"female\",\"22\":\"female\",\"23\":\"male\",\"24\":\"female\",\"25\":\"male\",\"26\":\"female\",\"27\":\"male\",\"28\":\"female\",\"29\":\"female\"},\"email\":{\"0\":\"atuny0@sohu.com\",\"1\":\"hbingley1@plala.or.jp\",\"2\":\"rshawe2@51.la\",\"3\":\"yraigatt3@nature.com\",\"4\":\"kmeus4@upenn.edu\",\"5\":\"jtreleven5@nhs.uk\",\"6\":\"dpettegre6@columbia.edu\",\"7\":\"ggude7@chron.com\",\"8\":\"nloiterton8@aol.com\",\"9\":\"umcgourty9@jalbum.net\",\"10\":\"acharlota@liveinternet.ru\",\"11\":\"rhallawellb@dropbox.com\",\"12\":\"lgribbinc@posterous.com\",\"13\":\"mturleyd@tumblr.com\",\"14\":\"kminchelle@qq.com\",\"15\":\"dpierrof@vimeo.com\",\"16\":\"vcholdcroftg@ucoz.com\",\"17\":\"sberminghamh@chron.com\",\"18\":\"bleveragei@so-net.ne.jp\",\"19\":\"aeatockj@psu.edu\",\"20\":\"ckensleyk@pen.io\",\"21\":\"froachel@howstuffworks.com\",\"22\":\"beykelhofm@wikispaces.com\",\"23\":\"brickeardn@fema.gov\",\"24\":\"dfundello@amazon.co.jp\",\"25\":\"lgronaverp@cornell.edu\",\"26\":\"fokillq@amazon.co.jp\",\"27\":\"xisherwoodr@ask.com\",\"28\":\"jissetts@hostgator.com\",\"29\":\"kdulyt@umich.edu\"},\"phone\":{\"0\":\"+63 791 675 8914\",\"1\":\"+7 813 117 7139\",\"2\":\"+63 739 292 7942\",\"3\":\"+86 461 145 4186\",\"4\":\"+372 285 771 1911\",\"5\":\"+351 527 735 3642\",\"6\":\"+62 640 802 7111\",\"7\":\"+86 946 297 2275\",\"8\":\"+86 356 590 9727\",\"9\":\"+60 184 408 0824\",\"10\":\"+967 253 210 0344\",\"11\":\"+380 962 542 6549\",\"12\":\"+1 609 937 3468\",\"13\":\"+94 912 100 5118\",\"14\":\"+86 581 108 7855\",\"15\":\"+420 833 708 0340\",\"16\":\"+420 874 628 3710\",\"17\":\"+55 886 766 8617\",\"18\":\"+86 886 889 0258\",\"19\":\"+1 904 601 7177\",\"20\":\"+86 634 419 6839\",\"21\":\"+34 517 104 6248\",\"22\":\"+63 919 564 1690\",\"23\":\"+7 968 462 1292\",\"24\":\"+86 376 986 8945\",\"25\":\"+62 511 790 0161\",\"26\":\"+60 785 960 7918\",\"27\":\"+81 859 545 8951\",\"28\":\"+81 915 649 2384\",\"29\":\"+48 143 590 6847\"},\"username\":{\"0\":\"atuny0\",\"1\":\"hbingley1\",\"2\":\"rshawe2\",\"3\":\"yraigatt3\",\"4\":\"kmeus4\",\"5\":\"jtreleven5\",\"6\":\"dpettegre6\",\"7\":\"ggude7\",\"8\":\"nloiterton8\",\"9\":\"umcgourty9\",\"10\":\"acharlota\",\"11\":\"rhallawellb\",\"12\":\"lgribbinc\",\"13\":\"mturleyd\",\"14\":\"kminchelle\",\"15\":\"dpierrof\",\"16\":\"vcholdcroftg\",\"17\":\"sberminghamh\",\"18\":\"bleveragei\",\"19\":\"aeatockj\",\"20\":\"ckensleyk\",\"21\":\"froachel\",\"22\":\"beykelhofm\",\"23\":\"brickeardn\",\"24\":\"dfundello\",\"25\":\"lgronaverp\",\"26\":\"fokillq\",\"27\":\"xisherwoodr\",\"28\":\"jissetts\",\"29\":\"kdulyt\"},\"password\":{\"0\":\"9uQFF1Lh\",\"1\":\"CQutx25i8r\",\"2\":\"OWsTbMUgFc\",\"3\":\"sRQxjPfdS\",\"4\":\"aUTdmmmbH\",\"5\":\"zY1nE46Zm\",\"6\":\"YVmhktgYVS\",\"7\":\"MWwlaeWcOoF6\",\"8\":\"HTQxxXV9Bq4\",\"9\":\"i0xzpX\",\"10\":\"M9lbMdydMN\",\"11\":\"esTkitT1r\",\"12\":\"ftGj8LZTtv9g\",\"13\":\"GyLnCB8gNIp\",\"14\":\"0lelplR\",\"15\":\"Vru55Y4tufI4\",\"16\":\"mSPzYZfR\",\"17\":\"cAjfb8vg\",\"18\":\"UZGAiqPqWQHQ\",\"19\":\"szWAG6hc\",\"20\":\"tq7kPXyf\",\"21\":\"rfVSKImC\",\"22\":\"zQwaHTHbuZyr\",\"23\":\"bMQnPttV\",\"24\":\"k9zgV68UKw8m\",\"25\":\"4a1dAKDv9KB9\",\"26\":\"xZnWSWnqH\",\"27\":\"HLDqN5vCF\",\"28\":\"ePawWgrnZR8L\",\"29\":\"5t6q4KC7O\"},\"birthDate\":{\"0\":\"2000-12-25\",\"1\":\"2003-08-02\",\"2\":\"1992-12-30\",\"3\":\"1969-01-16\",\"4\":\"1968-11-03\",\"5\":\"1969-07-21\",\"6\":\"1982-02-21\",\"7\":\"1964-08-24\",\"8\":\"1971-03-11\",\"9\":\"1958-08-11\",\"10\":\"1961-09-12\",\"11\":\"1990-12-14\",\"12\":\"1967-07-23\",\"13\":\"1979-08-25\",\"14\":\"1996-02-02\",\"15\":\"1963-07-03\",\"16\":\"1975-10-20\",\"17\":\"1958-02-05\",\"18\":\"1989-10-15\",\"19\":\"1980-01-19\",\"20\":\"1983-01-22\",\"21\":\"1987-11-11\",\"22\":\"1967-10-05\",\"23\":\"1966-06-02\",\"24\":\"2000-09-28\",\"25\":\"1965-09-06\",\"26\":\"1983-06-07\",\"27\":\"1979-01-09\",\"28\":\"1976-09-07\",\"29\":\"1964-12-18\"},\"image\":{\"0\":\"https:\\\\/\\\\/robohash.org\\\\/hicveldicta.png\",\"1\":\"https:\\\\/\\\\/robohash.org\\\\/doloremquesintcorrupti.png\",\"2\":\"https:\\\\/\\\\/robohash.org\\\\/consequunturautconsequatur.png\",\"3\":\"https:\\\\/\\\\/robohash.org\\\\/facilisdignissimosdolore.png\",\"4\":\"https:\\\\/\\\\/robohash.org\\\\/adverovelit.png\",\"5\":\"https:\\\\/\\\\/robohash.org\\\\/laboriosamfacilisrem.png\",\"6\":\"https:\\\\/\\\\/robohash.org\\\\/cupiditatererumquos.png\",\"7\":\"https:\\\\/\\\\/robohash.org\\\\/quiaharumsapiente.png\",\"8\":\"https:\\\\/\\\\/robohash.org\\\\/excepturiiuremolestiae.png\",\"9\":\"https:\\\\/\\\\/robohash.org\\\\/aliquamcumqueiure.png\",\"10\":\"https:\\\\/\\\\/robohash.org\\\\/impeditautest.png\",\"11\":\"https:\\\\/\\\\/robohash.org\\\\/namquaerataut.png\",\"12\":\"https:\\\\/\\\\/robohash.org\\\\/voluptatemsintnulla.png\",\"13\":\"https:\\\\/\\\\/robohash.org\\\\/quisequienim.png\",\"14\":\"https:\\\\/\\\\/robohash.org\\\\/autquiaut.png\",\"15\":\"https:\\\\/\\\\/robohash.org\\\\/porronumquamid.png\",\"16\":\"https:\\\\/\\\\/robohash.org\\\\/accusantiumvoluptateseos.png\",\"17\":\"https:\\\\/\\\\/robohash.org\\\\/nihilharumqui.png\",\"18\":\"https:\\\\/\\\\/robohash.org\\\\/delenitipraesentiumvoluptatum.png\",\"19\":\"https:\\\\/\\\\/robohash.org\\\\/ipsumutofficiis.png\",\"20\":\"https:\\\\/\\\\/robohash.org\\\\/providenttemporadelectus.png\",\"21\":\"https:\\\\/\\\\/robohash.org\\\\/temporarecusandaeest.png\",\"22\":\"https:\\\\/\\\\/robohash.org\\\\/odioquivero.png\",\"23\":\"https:\\\\/\\\\/robohash.org\\\\/odiomolestiaealias.png\",\"24\":\"https:\\\\/\\\\/robohash.org\\\\/doloremautdolores.png\",\"25\":\"https:\\\\/\\\\/robohash.org\\\\/laboriosammollitiaut.png\",\"26\":\"https:\\\\/\\\\/robohash.org\\\\/nequeodiosapiente.png\",\"27\":\"https:\\\\/\\\\/robohash.org\\\\/consequunturabnon.png\",\"28\":\"https:\\\\/\\\\/robohash.org\\\\/amettemporeea.png\",\"29\":\"https:\\\\/\\\\/robohash.org\\\\/perferendisideveniet.png\"},\"bloodGroup\":{\"0\":\"A\\\\u2212\",\"1\":\"O+\",\"2\":\"A\\\\u2212\",\"3\":\"B+\",\"4\":\"O+\",\"5\":\"A+\",\"6\":\"B\\\\u2212\",\"7\":\"A\\\\u2212\",\"8\":\"A+\",\"9\":\"O+\",\"10\":\"B\\\\u2212\",\"11\":\"O\\\\u2212\",\"12\":\"O+\",\"13\":\"O+\",\"14\":\"A+\",\"15\":\"B+\",\"16\":\"O\\\\u2212\",\"17\":\"AB\\\\u2212\",\"18\":\"A\\\\u2212\",\"19\":\"O\\\\u2212\",\"20\":\"A\\\\u2212\",\"21\":\"B\\\\u2212\",\"22\":\"O\\\\u2212\",\"23\":\"O+\",\"24\":\"O+\",\"25\":\"O\\\\u2212\",\"26\":\"A\\\\u2212\",\"27\":\"B\\\\u2212\",\"28\":\"A\\\\u2212\",\"29\":\"O\\\\u2212\"},\"height\":{\"0\":189,\"1\":187,\"2\":200,\"3\":157,\"4\":188,\"5\":149,\"6\":172,\"7\":146,\"8\":170,\"9\":198,\"10\":203,\"11\":168,\"12\":181,\"13\":150,\"14\":176,\"15\":166,\"16\":199,\"17\":192,\"18\":167,\"19\":175,\"20\":173,\"21\":164,\"22\":151,\"23\":166,\"24\":180,\"25\":146,\"26\":197,\"27\":172,\"28\":166,\"29\":170},\"weight\":{\"0\":75.4,\"1\":74.0,\"2\":105.3,\"3\":95.9,\"4\":106.3,\"5\":105.7,\"6\":78.1,\"7\":52.1,\"8\":97.1,\"9\":48.0,\"10\":63.7,\"11\":96.8,\"12\":56.5,\"13\":100.3,\"14\":45.7,\"15\":87.2,\"16\":94.3,\"17\":97.0,\"18\":65.3,\"19\":68.0,\"20\":69.9,\"21\":87.1,\"22\":96.7,\"23\":93.3,\"24\":102.1,\"25\":65.5,\"26\":71.5,\"27\":90.2,\"28\":93.7,\"29\":107.2},\"eyeColor\":{\"0\":\"Green\",\"1\":\"Brown\",\"2\":\"Gray\",\"3\":\"Gray\",\"4\":\"Brown\",\"5\":\"Amber\",\"6\":\"Blue\",\"7\":\"Blue\",\"8\":\"Green\",\"9\":\"Blue\",\"10\":\"Amber\",\"11\":\"Gray\",\"12\":\"Amber\",\"13\":\"Green\",\"14\":\"Amber\",\"15\":\"Gray\",\"16\":\"Brown\",\"17\":\"Amber\",\"18\":\"Amber\",\"19\":\"Green\",\"20\":\"Brown\",\"21\":\"Green\",\"22\":\"Brown\",\"23\":\"Brown\",\"24\":\"Blue\",\"25\":\"Blue\",\"26\":\"Brown\",\"27\":\"Blue\",\"28\":\"Amber\",\"29\":\"Blue\"},\"hair\":{\"0\":{\"color\":\"Black\",\"type\":\"Strands\"},\"1\":{\"color\":\"Blond\",\"type\":\"Curly\"},\"2\":{\"color\":\"Blond\",\"type\":\"Very curly\"},\"3\":{\"color\":\"Blond\",\"type\":\"Very curly\"},\"4\":{\"color\":\"Brown\",\"type\":\"Curly\"},\"5\":{\"color\":\"Blond\",\"type\":\"Straight\"},\"6\":{\"color\":\"Chestnut\",\"type\":\"Wavy\"},\"7\":{\"color\":\"Chestnut\",\"type\":\"Wavy\"},\"8\":{\"color\":\"Brown\",\"type\":\"Strands\"},\"9\":{\"color\":\"Chestnut\",\"type\":\"Wavy\"},\"10\":{\"color\":\"Black\",\"type\":\"Straight\"},\"11\":{\"color\":\"Black\",\"type\":\"Very curly\"},\"12\":{\"color\":\"Auburn\",\"type\":\"Straight\"},\"13\":{\"color\":\"Auburn\",\"type\":\"Strands\"},\"14\":{\"color\":\"Blond\",\"type\":\"Straight\"},\"15\":{\"color\":\"Black\",\"type\":\"Very curly\"},\"16\":{\"color\":\"Black\",\"type\":\"Curly\"},\"17\":{\"color\":\"Brown\",\"type\":\"Straight\"},\"18\":{\"color\":\"Black\",\"type\":\"Straight\"},\"19\":{\"color\":\"Black\",\"type\":\"Strands\"},\"20\":{\"color\":\"Black\",\"type\":\"Curly\"},\"21\":{\"color\":\"Black\",\"type\":\"Strands\"},\"22\":{\"color\":\"Brown\",\"type\":\"Curly\"},\"23\":{\"color\":\"Brown\",\"type\":\"Curly\"},\"24\":{\"color\":\"Brown\",\"type\":\"Wavy\"},\"25\":{\"color\":\"Blond\",\"type\":\"Wavy\"},\"26\":{\"color\":\"Black\",\"type\":\"Curly\"},\"27\":{\"color\":\"Brown\",\"type\":\"Wavy\"},\"28\":{\"color\":\"Black\",\"type\":\"Straight\"},\"29\":{\"color\":\"Blond\",\"type\":\"Wavy\"}},\"domain\":{\"0\":\"slashdot.org\",\"1\":\"51.la\",\"2\":\"earthlink.net\",\"3\":\"homestead.com\",\"4\":\"columbia.edu\",\"5\":\"bandcamp.com\",\"6\":\"ovh.net\",\"7\":\"homestead.com\",\"8\":\"goodreads.com\",\"9\":\"alibaba.com\",\"10\":\"feedburner.com\",\"11\":\"123-reg.co.uk\",\"12\":\"histats.com\",\"13\":\"icio.us\",\"14\":\"google.co.uk\",\"15\":\"tamu.edu\",\"16\":\"wix.com\",\"17\":\"seesaa.net\",\"18\":\"homestead.com\",\"19\":\"sourceforge.net\",\"20\":\"free.fr\",\"21\":\"indiatimes.com\",\"22\":\"tamu.edu\",\"23\":\"pen.io\",\"24\":\"apple.com\",\"25\":\"foxnews.com\",\"26\":\"toplist.cz\",\"27\":\"elpais.com\",\"28\":\"ibm.com\",\"29\":\"ow.ly\"},\"ip\":{\"0\":\"117.29.86.254\",\"1\":\"253.240.20.181\",\"2\":\"205.226.160.3\",\"3\":\"243.20.78.113\",\"4\":\"103.72.86.183\",\"5\":\"49.201.206.36\",\"6\":\"25.207.107.146\",\"7\":\"91.200.56.127\",\"8\":\"78.170.185.120\",\"9\":\"73.15.179.178\",\"10\":\"137.235.164.173\",\"11\":\"74.80.53.208\",\"12\":\"163.245.232.27\",\"13\":\"174.238.43.126\",\"14\":\"78.43.74.226\",\"15\":\"82.170.69.15\",\"16\":\"75.75.234.243\",\"17\":\"29.82.54.30\",\"18\":\"90.202.216.39\",\"19\":\"59.43.194.22\",\"20\":\"87.213.156.73\",\"21\":\"71.57.235.192\",\"22\":\"141.14.53.176\",\"23\":\"116.92.198.102\",\"24\":\"48.30.193.203\",\"25\":\"93.246.47.59\",\"26\":\"100.159.51.104\",\"27\":\"51.102.180.216\",\"28\":\"197.37.13.163\",\"29\":\"97.11.116.84\"},\"address\":{\"0\":{\"address\":\"1745 T Street Southeast\",\"city\":\"Washington\",\"coordinates\":{\"lat\":38.867033,\"lng\":-76.979235},\"postalCode\":\"20020\",\"state\":\"DC\"},\"1\":{\"address\":\"6007 Applegate Lane\",\"city\":\"Louisville\",\"coordinates\":{\"lat\":38.1343013,\"lng\":-85.6498512},\"postalCode\":\"40219\",\"state\":\"KY\"},\"2\":{\"address\":\"560 Penstock Drive\",\"city\":\"Grass Valley\",\"coordinates\":{\"lat\":39.213076,\"lng\":-121.077583},\"postalCode\":\"95945\",\"state\":\"CA\"},\"3\":{\"address\":\"150 Carter Street\",\"city\":\"Manchester\",\"coordinates\":{\"lat\":41.76556,\"lng\":-72.473091},\"postalCode\":\"06040\",\"state\":\"CT\"},\"4\":{\"address\":\"2721 Lindsay Avenue\",\"city\":\"Louisville\",\"coordinates\":{\"lat\":38.263793,\"lng\":-85.700243},\"postalCode\":\"40206\",\"state\":\"KY\"},\"5\":{\"address\":\"18 Densmore Drive\",\"city\":\"Essex\",\"coordinates\":{\"lat\":44.492953,\"lng\":-73.101883},\"postalCode\":\"05452\",\"state\":\"VT\"},\"6\":{\"address\":\"637 Britannia Drive\",\"city\":\"Vallejo\",\"coordinates\":{\"lat\":38.10477,\"lng\":-122.193849},\"postalCode\":\"94591\",\"state\":\"CA\"},\"7\":{\"address\":\"5601 West Crocus Drive\",\"city\":\"Glendale\",\"coordinates\":{\"lat\":33.6152469,\"lng\":-112.179737},\"postalCode\":\"85306\",\"state\":\"AZ\"},\"8\":{\"address\":\"5403 Illinois Avenue\",\"city\":\"Nashville\",\"coordinates\":{\"lat\":36.157077,\"lng\":-86.853827},\"postalCode\":\"37209\",\"state\":\"TN\"},\"9\":{\"address\":\"8821 West Myrtle Avenue\",\"city\":\"Glendale\",\"coordinates\":{\"lat\":33.5404296,\"lng\":-112.2488391},\"postalCode\":\"85305\",\"state\":\"AZ\"},\"10\":{\"address\":\"2203 7th Street Road\",\"city\":\"Louisville\",\"coordinates\":{\"lat\":38.218107,\"lng\":-85.779006},\"postalCode\":\"40208\",\"state\":\"KY\"},\"11\":{\"address\":\"6463 Vrain Street\",\"city\":\"Arvada\",\"coordinates\":{\"lat\":39.814056,\"lng\":-105.046913},\"postalCode\":\"80003\",\"state\":\"CO\"},\"12\":{\"address\":\"87 Horseshoe Drive\",\"city\":\"West Windsor\",\"coordinates\":{\"lat\":43.4731793,\"lng\":-72.4967532},\"postalCode\":\"05037\",\"state\":\"VT\"},\"13\":{\"address\":\"60 Desousa Drive\",\"city\":\"Manchester\",\"coordinates\":{\"lat\":41.7409259,\"lng\":-72.5619104},\"postalCode\":\"06040\",\"state\":\"CT\"},\"14\":{\"address\":\"4 Old Colony Way\",\"city\":\"Yarmouth\",\"coordinates\":{\"lat\":41.697168,\"lng\":-70.189992},\"postalCode\":\"02664\",\"state\":\"MA\"},\"15\":{\"address\":\"314 South 17th Street\",\"city\":\"Nashville\",\"coordinates\":{\"lat\":36.1719075,\"lng\":-86.740228},\"postalCode\":\"37206\",\"state\":\"TN\"},\"16\":{\"address\":\"1649 Timberridge Court\",\"city\":\"Fayetteville\",\"coordinates\":{\"lat\":36.084563,\"lng\":-94.206082},\"postalCode\":\"72704\",\"state\":\"AR\"},\"17\":{\"address\":\"5461 West Shades Valley Drive\",\"city\":\"Montgomery\",\"coordinates\":{\"lat\":32.296422,\"lng\":-86.342803},\"postalCode\":\"36108\",\"state\":\"AL\"},\"18\":{\"address\":\"629 Debbie Drive\",\"city\":\"Nashville\",\"coordinates\":{\"lat\":36.208114,\"lng\":-86.586212},\"postalCode\":\"37076\",\"state\":\"TN\"},\"19\":{\"address\":\"22572 Toreador Drive\",\"city\":\"Salinas\",\"coordinates\":{\"lat\":36.602449,\"lng\":-121.699071},\"postalCode\":\"93908\",\"state\":\"CA\"},\"20\":{\"address\":\"3034 Mica Street\",\"city\":\"Fayetteville\",\"coordinates\":{\"lat\":36.0807929,\"lng\":-94.2066449},\"postalCode\":\"72704\",\"state\":\"AR\"},\"21\":{\"address\":\"3729 East Mission Boulevard\",\"city\":\"Fayetteville\",\"coordinates\":{\"lat\":36.0919353,\"lng\":-94.1065422},\"postalCode\":\"72703\",\"state\":\"AR\"},\"22\":{\"address\":\"5114 Greentree Drive\",\"city\":\"Nashville\",\"coordinates\":{\"lat\":36.0618539,\"lng\":-86.738508},\"postalCode\":\"37211\",\"state\":\"TN\"},\"23\":{\"address\":\"3466 Southview Avenue\",\"city\":\"Montgomery\",\"coordinates\":{\"lat\":32.341227,\"lng\":-86.2846859},\"postalCode\":\"36111\",\"state\":\"AL\"},\"24\":{\"address\":\"1513 Cathy Street\",\"city\":\"Savannah\",\"coordinates\":{\"lat\":32.067416,\"lng\":-81.125331},\"postalCode\":\"31415\",\"state\":\"GA\"},\"25\":{\"address\":\"600 West 19th Avenue\",\"city\":\"Anchorage\",\"coordinates\":{\"lat\":61.203115,\"lng\":-149.894107},\"postalCode\":\"99503\",\"state\":\"AK\"},\"26\":{\"address\":\"1208 Elkader Court North\",\"city\":\"Nashville\",\"coordinates\":{\"lat\":36.080049,\"lng\":-86.601161},\"postalCode\":\"37013\",\"state\":\"TN\"},\"27\":{\"address\":\"210 Green Road\",\"city\":\"Manchester\",\"coordinates\":{\"lat\":41.7909099,\"lng\":-72.5119513},\"postalCode\":\"06042\",\"state\":\"CT\"},\"28\":{\"address\":\"49548 Road 200\",\"city\":\"O\\'Neals\",\"coordinates\":{\"lat\":37.153463,\"lng\":-119.648192},\"postalCode\":\"93645\",\"state\":\"CA\"},\"29\":{\"address\":\"81 Seaton Place Northwest\",\"city\":\"Washington\",\"coordinates\":{\"lat\":38.9149499,\"lng\":-77.0117026},\"postalCode\":\"20001\",\"state\":\"DC\"}},\"macAddress\":{\"0\":\"13:69:BA:56:A3:74\",\"1\":\"13:F1:00:DA:A4:12\",\"2\":\"F2:88:58:64:F7:76\",\"3\":\"03:45:58:59:5A:7B\",\"4\":\"F8:04:9E:ED:C0:68\",\"5\":\"6C:34:D0:4B:4E:81\",\"6\":\"48:2D:A0:67:19:E0\",\"7\":\"72:DA:1B:D7:30:E9\",\"8\":\"98:EE:94:A2:91:C4\",\"9\":\"BC:A9:D8:98:CB:0B\",\"10\":\"59:E8:70:5A:E5:D6\",\"11\":\"9B:DC:21:C2:30:A3\",\"12\":\"B9:21:ED:9F:B8:9E\",\"13\":\"52:11:E1:31:35:C1\",\"14\":\"D9:DB:D9:5A:01:09\",\"15\":\"3D:21:5B:9F:76:FF\",\"16\":\"47:FA:F7:94:7B:5D\",\"17\":\"61:0C:8F:92:48:D5\",\"18\":\"22:98:8D:97:2D:AE\",\"19\":\"ED:64:AE:91:49:C9\",\"20\":\"E2:5A:A5:85:9B:6D\",\"21\":\"A4:8B:56:BC:ED:98\",\"22\":\"4D:AB:8D:9A:E5:02\",\"23\":\"AF:AA:20:8E:CA:CD\",\"24\":\"EC:59:D3:FC:65:92\",\"25\":\"34:06:26:95:37:D6\",\"26\":\"1F:42:5D:8C:66:3D\",\"27\":\"B4:B6:17:3C:41:E5\",\"28\":\"D7:14:C5:45:69:C1\",\"29\":\"42:87:72:A1:4D:9A\"},\"university\":{\"0\":\"Capitol University\",\"1\":\"Stavropol State Technical University\",\"2\":\"University of Cagayan Valley\",\"3\":\"Shenyang Pharmaceutical University\",\"4\":\"Estonian University of Life Sciences\",\"5\":\"Universidade da Beira Interior\",\"6\":\"Institut Sains dan Teknologi Al Kamal\",\"7\":\"Wenzhou Medical College\",\"8\":\"Nanjing University of Economics\",\"9\":\"Melaka City Polytechnic\",\"10\":\"Hodeidah University\",\"11\":\"Kiev Slavonic University\",\"12\":\"Dallas Christian College\",\"13\":\"University of Sri Jayawardenapura\",\"14\":\"Donghua University, Shanghai\",\"15\":\"Technical University of Mining and Metallurgy Ostrava\",\"16\":\"Technical University of Mining and Metallurgy Ostrava\",\"17\":\"Universidade Estadual do Cear\\\\u00e1\",\"18\":\"Xinjiang University\",\"19\":\"Moraine Valley Community College\",\"20\":\"Nanjing University of Traditional Chinese Medicine\",\"21\":\"Universitat R\\\\u00e1mon Llull\",\"22\":\"University of lloilo\",\"23\":\"Bashkir State Medical University\",\"24\":\"Wuhan University of Technology\",\"25\":\"Universitas Bojonegoro\",\"26\":\"Sultanah Bahiyah Polytechnic\",\"27\":\"Science University of Tokyo\",\"28\":\"Fuji Women\\'s College\",\"29\":\"Poznan School of Banking\"},\"bank\":{\"0\":{\"cardExpire\":\"06\\\\/22\",\"cardNumber\":\"50380955204220685\",\"cardType\":\"maestro\",\"currency\":\"Peso\",\"iban\":\"NO17 0695 2754 967\"},\"1\":{\"cardExpire\":\"10\\\\/23\",\"cardNumber\":\"5355920631952404\",\"cardType\":\"mastercard\",\"currency\":\"Ruble\",\"iban\":\"MD63 L6YC 8YH4 QVQB XHIK MTML\"},\"2\":{\"cardExpire\":\"10\\\\/23\",\"cardNumber\":\"3586082982526703\",\"cardType\":\"jcb\",\"currency\":\"Peso\",\"iban\":\"AT24 1095 9625 1434 9703\"},\"3\":{\"cardExpire\":\"07\\\\/24\",\"cardNumber\":\"3580047879369323\",\"cardType\":\"jcb\",\"currency\":\"Yuan Renminbi\",\"iban\":\"KZ43 658B M6VS TZOU OXSO\"},\"4\":{\"cardExpire\":\"01\\\\/24\",\"cardNumber\":\"4917245076693618\",\"cardType\":\"visa-electron\",\"currency\":\"Euro\",\"iban\":\"IT41 T114 5127 716J RGYB ZRUX DSJ\"},\"5\":{\"cardExpire\":\"03\\\\/22\",\"cardNumber\":\"345675888286047\",\"cardType\":\"americanexpress\",\"currency\":\"Euro\",\"iban\":\"LB69 1062 QCY5 XS5T VOKU KJFG XP4S\"},\"6\":{\"cardExpire\":\"10\\\\/23\",\"cardNumber\":\"3589640949470047\",\"cardType\":\"jcb\",\"currency\":\"Rupiah\",\"iban\":\"GI97 IKPF 9DUO X25M FG8D UXY\"},\"7\":{\"cardExpire\":\"09\\\\/23\",\"cardNumber\":\"30549925358905\",\"cardType\":\"diners-club-carte-blanche\",\"currency\":\"Yuan Renminbi\",\"iban\":\"CY02 9914 5346 0PMT G6XW TP0R AWRZ\"},\"8\":{\"cardExpire\":\"02\\\\/24\",\"cardNumber\":\"5372664789004621\",\"cardType\":\"mastercard\",\"currency\":\"Yuan Renminbi\",\"iban\":\"BR68 9829 0581 3669 5088 5533 025N V\"},\"9\":{\"cardExpire\":\"01\\\\/24\",\"cardNumber\":\"3557806620295254\",\"cardType\":\"jcb\",\"currency\":\"Ringgit\",\"iban\":\"GT40 DWAD 9UHA VEOZ ZF4J 2Y0F OOFD\"},\"10\":{\"cardExpire\":\"05\\\\/24\",\"cardNumber\":\"5893925889459720\",\"cardType\":\"maestro\",\"currency\":\"Rial\",\"iban\":\"NL97 UWMY 2503 2999 43\"},\"11\":{\"cardExpire\":\"09\\\\/22\",\"cardNumber\":\"5602230671060360\",\"cardType\":\"bankcard\",\"currency\":\"Hryvnia\",\"iban\":\"KW76 VNLA LX0Y DMDE PFS8 FVKP VMDF AV\"},\"12\":{\"cardExpire\":\"01\\\\/23\",\"cardNumber\":\"3556299106119514\",\"cardType\":\"jcb\",\"currency\":\"Dollar\",\"iban\":\"AE47 4194 4544 3401 3419 286\"},\"13\":{\"cardExpire\":\"11\\\\/23\",\"cardNumber\":\"5339467937996728\",\"cardType\":\"mastercard\",\"currency\":\"Rupee\",\"iban\":\"SI28 0812 7967 0952 944\"},\"14\":{\"cardExpire\":\"10\\\\/23\",\"cardNumber\":\"3588859507772914\",\"cardType\":\"jcb\",\"currency\":\"Yuan Renminbi\",\"iban\":\"FO12 1440 0396 8902 56\"},\"15\":{\"cardExpire\":\"07\\\\/23\",\"cardNumber\":\"6378941710246212\",\"cardType\":\"instapayment\",\"currency\":\"Koruna\",\"iban\":\"CH94 4961 5QY1 VPV1 NGIP P\"},\"16\":{\"cardExpire\":\"05\\\\/24\",\"cardNumber\":\"3574627048005672\",\"cardType\":\"jcb\",\"currency\":\"Koruna\",\"iban\":\"SI81 7221 0344 9088 864\"},\"17\":{\"cardExpire\":\"09\\\\/24\",\"cardNumber\":\"3578078357052002\",\"cardType\":\"jcb\",\"currency\":\"Real\",\"iban\":\"FR79 7925 2903 77HF 2ZY6 TU4M T84\"},\"18\":{\"cardExpire\":\"05\\\\/22\",\"cardNumber\":\"5602214306858976\",\"cardType\":\"bankcard\",\"currency\":\"Yuan Renminbi\",\"iban\":\"GB94 MOIU 1274 8449 9733 05\"},\"19\":{\"cardExpire\":\"07\\\\/22\",\"cardNumber\":\"3565173055875732\",\"cardType\":\"jcb\",\"currency\":\"Dollar\",\"iban\":\"GT39 KL9Z CZYV XF26 UPYW SFPT H74U\"},\"20\":{\"cardExpire\":\"06\\\\/24\",\"cardNumber\":\"30464640811198\",\"cardType\":\"diners-club-carte-blanche\",\"currency\":\"Yuan Renminbi\",\"iban\":\"BE41 7150 0766 2980\"},\"21\":{\"cardExpire\":\"12\\\\/21\",\"cardNumber\":\"342220243660686\",\"cardType\":\"americanexpress\",\"currency\":\"Euro\",\"iban\":\"CY09 2675 2653 QNEJ JNSA 0E2V ONMM\"},\"22\":{\"cardExpire\":\"06\\\\/22\",\"cardNumber\":\"6333837222395642\",\"cardType\":\"switch\",\"currency\":\"Peso\",\"iban\":\"FR40 3929 7903 26S5 QL9A HUSV Z09\"},\"23\":{\"cardExpire\":\"11\\\\/21\",\"cardNumber\":\"5007666357943463\",\"cardType\":\"mastercard\",\"currency\":\"Ruble\",\"iban\":\"NL22 YBPM 0101 6695 08\"},\"24\":{\"cardExpire\":\"10\\\\/23\",\"cardNumber\":\"3558628665594956\",\"cardType\":\"jcb\",\"currency\":\"Yuan Renminbi\",\"iban\":\"RS85 6347 5884 2820 5764 23\"},\"25\":{\"cardExpire\":\"07\\\\/24\",\"cardNumber\":\"3587188969123346\",\"cardType\":\"jcb\",\"currency\":\"Rupiah\",\"iban\":\"AD24 9240 6903 OD2X OW1Y WD1K\"},\"26\":{\"cardExpire\":\"09\\\\/22\",\"cardNumber\":\"6762169351744592\",\"cardType\":\"maestro\",\"currency\":\"Ringgit\",\"iban\":\"BH05 STDW HECU HD4S L8U1 C6\"},\"27\":{\"cardExpire\":\"05\\\\/23\",\"cardNumber\":\"201443655632569\",\"cardType\":\"diners-club-enroute\",\"currency\":\"Yen\",\"iban\":\"GT70 4NNE RDSR 0AJV 6AQI 4XH1 RWOC\"},\"28\":{\"cardExpire\":\"04\\\\/24\",\"cardNumber\":\"633413352570887921\",\"cardType\":\"solo\",\"currency\":\"Yen\",\"iban\":\"IS23 8410 4605 1294 9479 5900 11\"},\"29\":{\"cardExpire\":\"02\\\\/24\",\"cardNumber\":\"6331108070510590026\",\"cardType\":\"switch\",\"currency\":\"Zloty\",\"iban\":\"MT70 MKRC 8244 59Z4 9UG1 1HY7 TKM6 1YX\"}},\"company\":{\"0\":{\"address\":{\"address\":\"629 Debbie Drive\",\"city\":\"Nashville\",\"coordinates\":{\"lat\":36.208114,\"lng\":-86.586212},\"postalCode\":\"37076\",\"state\":\"TN\"},\"department\":\"Marketing\",\"name\":\"Blanda-O\\'Keefe\",\"title\":\"Help Desk Operator\"},\"1\":{\"address\":{\"address\":\"8821 West Myrtle Avenue\",\"city\":\"Glendale\",\"coordinates\":{\"lat\":33.5404296,\"lng\":-112.2488391},\"postalCode\":\"85305\",\"state\":\"AZ\"},\"department\":\"Services\",\"name\":\"Aufderhar-Cronin\",\"title\":\"Senior Cost Accountant\"},\"2\":{\"address\":{\"address\":\"18 Densmore Drive\",\"city\":\"Essex\",\"coordinates\":{\"lat\":44.492953,\"lng\":-73.101883},\"postalCode\":\"05452\",\"state\":\"VT\"},\"department\":\"Marketing\",\"name\":\"Lindgren LLC\",\"title\":\"Mechanical Systems Engineer\"},\"3\":{\"address\":{\"address\":\"210 Green Road\",\"city\":\"Manchester\",\"coordinates\":{\"lat\":41.7909099,\"lng\":-72.5119513},\"postalCode\":\"06042\",\"state\":\"CT\"},\"department\":\"Business Development\",\"name\":\"Wolff and Sons\",\"title\":\"Paralegal\"},\"4\":{\"address\":{\"address\":\"8398 West Denton Lane\",\"city\":\"Glendale\",\"coordinates\":{\"lat\":33.515353,\"lng\":-112.240812},\"postalCode\":\"85305\",\"state\":\"AZ\"},\"department\":\"Support\",\"name\":\"Adams Inc\",\"title\":\"Web Developer I\"},\"5\":{\"address\":{\"address\":\"6231 North 67th Avenue\",\"city\":\"Glendale\",\"coordinates\":{\"lat\":33.5279666,\"lng\":-112.2022551},\"postalCode\":\"85301\",\"state\":\"AZ\"},\"department\":\"Accounting\",\"name\":\"D\\'Amore and Sons\",\"title\":\"Civil Engineer\"},\"6\":{\"address\":{\"address\":\"1407 Walden Court\",\"city\":\"Crofton\",\"coordinates\":{\"lat\":39.019306,\"lng\":-76.660653},\"postalCode\":\"21114\",\"state\":\"MD\"},\"department\":\"Product Management\",\"name\":\"Schimmel, Wilderman and Orn\",\"title\":\"Sales Associate\"},\"7\":{\"address\":{\"address\":\"81 Seaton Place Northwest\",\"city\":\"Washington\",\"coordinates\":{\"lat\":38.9149499,\"lng\":-77.0117026},\"postalCode\":\"20001\",\"state\":\"DC\"},\"department\":\"Services\",\"name\":\"Corkery, Reichert and Hodkiewicz\",\"title\":\"Clinical Specialist\"},\"8\":{\"address\":{\"address\":\"12245 West 71st Place\",\"city\":\"Arvada\",\"coordinates\":{\"lat\":39.8267078,\"lng\":-105.1366798},\"postalCode\":\"80004\",\"state\":\"CO\"},\"department\":\"Human Resources\",\"name\":\"Gorczany Group\",\"title\":\"Community Outreach Specialist\"},\"9\":{\"address\":{\"address\":\"1649 Timberridge Court\",\"city\":\"Fayetteville\",\"coordinates\":{\"lat\":36.084563,\"lng\":-94.206082},\"postalCode\":\"72704\",\"state\":\"AR\"},\"department\":\"Marketing\",\"name\":\"Bins Group\",\"title\":\"Senior Sales Associate\"},\"10\":{\"address\":{\"address\":\"308 Woodleaf Court\",\"city\":\"Glen Burnie\",\"coordinates\":{\"lat\":39.1425931,\"lng\":-76.6238441},\"postalCode\":\"21061\",\"state\":\"MD\"},\"department\":\"Business Development\",\"name\":\"Kuhn-Harber\",\"title\":\"Account Executive\"},\"11\":{\"address\":{\"address\":\"388 East Main Street\",\"coordinates\":{\"lat\":43.9727945,\"lng\":-73.1023187},\"postalCode\":\"05753\",\"state\":\"VT\"},\"department\":\"Product Management\",\"name\":\"Goodwin-Skiles\",\"title\":\"Developer II\"},\"12\":{\"address\":{\"address\":\"310 Timrod Road\",\"city\":\"Manchester\",\"coordinates\":{\"lat\":41.756758,\"lng\":-72.493501},\"postalCode\":\"06040\",\"state\":\"CT\"},\"department\":\"Research and Development\",\"name\":\"Casper Inc\",\"title\":\"Sales Associate\"},\"13\":{\"address\":{\"address\":\"21950 Arnold Center Road\",\"city\":\"Carson\",\"coordinates\":{\"lat\":33.8272706,\"lng\":-118.2302826},\"postalCode\":\"90810\",\"state\":\"CA\"},\"department\":\"Sales\",\"name\":\"Schoen Inc\",\"title\":\"Professor\"},\"14\":{\"address\":{\"address\":\"22572 Toreador Drive\",\"city\":\"Salinas\",\"coordinates\":{\"lat\":36.602449,\"lng\":-121.699071},\"postalCode\":\"93908\",\"state\":\"CA\"},\"department\":\"Marketing\",\"name\":\"Hahn-MacGyver\",\"title\":\"Software Test Engineer IV\"},\"15\":{\"address\":{\"address\":\"1407 Walden Court\",\"city\":\"Crofton\",\"coordinates\":{\"lat\":39.019306,\"lng\":-76.660653},\"postalCode\":\"21114\",\"state\":\"MD\"},\"department\":\"Research and Development\",\"name\":\"Steuber, Considine and Padberg\",\"title\":\"Geological Engineer\"},\"16\":{\"address\":{\"address\":\"20930 Todd Valley Road\",\"city\":\"Foresthill\",\"coordinates\":{\"lat\":38.989466,\"lng\":-120.883108},\"postalCode\":\"95631\",\"state\":\"CA\"},\"department\":\"Sales\",\"name\":\"Bogisich and Sons\",\"title\":\"Operator\"},\"17\":{\"address\":{\"address\":\"3162 Martin Luther King Junior Boulevard\",\"city\":\"Fayetteville\",\"coordinates\":{\"lat\":36.0523331,\"lng\":-94.2056987},\"postalCode\":\"72704\",\"state\":\"AR\"},\"department\":\"Support\",\"name\":\"Metz Group\",\"title\":\"VP Accounting\"},\"18\":{\"address\":{\"address\":\"6463 Vrain Street\",\"city\":\"Arvada\",\"coordinates\":{\"lat\":39.814056,\"lng\":-105.046913},\"postalCode\":\"80003\",\"state\":\"CO\"},\"department\":\"Sales\",\"name\":\"Bahringer, Auer and Wehner\",\"title\":\"Financial Analyst\"},\"19\":{\"address\":{\"address\":\"491 Arabian Way\",\"city\":\"Grand Junction\",\"coordinates\":{\"lat\":39.07549,\"lng\":-108.474785},\"postalCode\":\"81504\",\"state\":\"CO\"},\"department\":\"Support\",\"name\":\"Hoppe Group\",\"title\":\"Geologist III\"},\"20\":{\"address\":{\"address\":\"5906 Milton Avenue\",\"city\":\"Deale\",\"coordinates\":{\"lat\":38.784451,\"lng\":-76.541255},\"postalCode\":\"20751\",\"state\":\"MD\"},\"department\":\"Product Management\",\"name\":\"Brekke Group\",\"title\":\"Programmer Analyst I\"},\"21\":{\"address\":{\"address\":\"8800 Cordell Circle\",\"city\":\"Anchorage\",\"coordinates\":{\"lat\":61.1409305,\"lng\":-149.9437822},\"postalCode\":\"99502\",\"state\":\"AK\"},\"department\":\"Research and Development\",\"name\":\"Durgan Group\",\"title\":\"VP Quality Control\"},\"22\":{\"address\":{\"address\":\"1770 Colony Way\",\"city\":\"Fayetteville\",\"coordinates\":{\"lat\":36.0867,\"lng\":-94.229754},\"postalCode\":\"72704\",\"state\":\"AR\"},\"department\":\"Legal\",\"name\":\"Romaguera, Williamson and Kessler\",\"title\":\"Assistant Manager\"},\"23\":{\"address\":{\"address\":\"80 North East Street\",\"city\":\"Holyoke\",\"coordinates\":{\"lat\":42.2041219,\"lng\":-72.5977704},\"postalCode\":\"01040\",\"state\":\"MA\"},\"department\":\"Product Management\",\"name\":\"Wintheiser-Boehm\",\"title\":\"Research Nurse\"},\"24\":{\"address\":{\"address\":\"125 John Street\",\"city\":\"Santa Cruz\",\"coordinates\":{\"lat\":36.950901,\"lng\":-122.046881},\"postalCode\":\"95060\",\"state\":\"CA\"},\"department\":\"Marketing\",\"name\":\"Volkman Group\",\"title\":\"Cost Accountant\"},\"25\":{\"address\":{\"address\":\"1508 Massachusetts Avenue Southeast\",\"city\":\"Washington\",\"coordinates\":{\"lat\":38.887255,\"lng\":-76.983185},\"postalCode\":\"20003\",\"state\":\"DC\"},\"department\":\"Engineering\",\"name\":\"Boyle, Boyer and Lang\",\"title\":\"Senior Cost Accountant\"},\"26\":{\"address\":{\"address\":\"600 West 19th Avenue\",\"city\":\"Anchorage\",\"coordinates\":{\"lat\":61.203115,\"lng\":-149.894107},\"postalCode\":\"99503\",\"state\":\"AK\"},\"department\":\"Human Resources\",\"name\":\"O\\'Hara and Sons\",\"title\":\"Sales Representative\"},\"27\":{\"address\":{\"address\":\"109 Summit Street\",\"city\":\"Burlington\",\"coordinates\":{\"lat\":44.4729749,\"lng\":-73.2026566},\"postalCode\":\"05401\",\"state\":\"VT\"},\"department\":\"Support\",\"name\":\"Leffler, Beatty and Kilback\",\"title\":\"Recruiting Manager\"},\"28\":{\"address\":{\"address\":\"5403 Illinois Avenue\",\"city\":\"Nashville\",\"coordinates\":{\"lat\":36.157077,\"lng\":-86.853827},\"postalCode\":\"37209\",\"state\":\"TN\"},\"department\":\"Product Management\",\"name\":\"Bruen and Sons\",\"title\":\"Structural Analysis Engineer\"},\"29\":{\"address\":{\"address\":\"816 West 19th Avenue\",\"city\":\"Anchorage\",\"coordinates\":{\"lat\":61.203221,\"lng\":-149.898655},\"postalCode\":\"99503\",\"state\":\"AK\"},\"department\":\"Support\",\"name\":\"Balistreri-Kshlerin\",\"title\":\"Quality Engineer\"}},\"ein\":{\"0\":\"20-9487066\",\"1\":\"52-5262907\",\"2\":\"48-3951994\",\"3\":\"71-3644334\",\"4\":\"18-7178563\",\"5\":\"78-3192791\",\"6\":\"29-1568401\",\"7\":\"88-4396827\",\"8\":\"14-1066382\",\"9\":\"21-5278484\",\"10\":\"09-3791007\",\"11\":\"14-1242349\",\"12\":\"94-0648182\",\"13\":\"61-8316825\",\"14\":\"62-0561095\",\"15\":\"75-1816504\",\"16\":\"92-8837697\",\"17\":\"55-4062919\",\"18\":\"53-7190545\",\"19\":\"88-6715551\",\"20\":\"23-4116115\",\"21\":\"78-2846180\",\"22\":\"92-4814248\",\"23\":\"77-6259466\",\"24\":\"14-6307509\",\"25\":\"38-0997138\",\"26\":\"11-3129153\",\"27\":\"09-1129306\",\"28\":\"31-6688179\",\"29\":\"51-7727524\"},\"ssn\":{\"0\":\"661-64-2976\",\"1\":\"447-08-9217\",\"2\":\"633-89-1926\",\"3\":\"487-28-6642\",\"4\":\"667-98-5357\",\"5\":\"158-68-0184\",\"6\":\"478-11-2206\",\"7\":\"238-41-5528\",\"8\":\"717-26-3759\",\"9\":\"544-66-0745\",\"10\":\"342-54-8422\",\"11\":\"116-51-6131\",\"12\":\"217-05-3082\",\"13\":\"742-81-1714\",\"14\":\"855-43-8639\",\"15\":\"677-73-1525\",\"16\":\"795-36-7752\",\"17\":\"551-74-1349\",\"18\":\"809-93-2422\",\"19\":\"389-03-0381\",\"20\":\"562-46-9709\",\"21\":\"155-87-0243\",\"22\":\"441-72-1229\",\"23\":\"291-72-5526\",\"24\":\"266-43-5297\",\"25\":\"407-02-8915\",\"26\":\"408-90-5986\",\"27\":\"389-74-9456\",\"28\":\"391-33-1550\",\"29\":\"534-76-0952\"},\"userAgent\":{\"0\":\"Mozilla\\\\/5.0 (Windows NT 6.1) AppleWebKit\\\\/534.24 (KHTML, like Gecko) Chrome\\\\/12.0.702.0 Safari\\\\/534.24\",\"1\":\"Mozilla\\\\/5.0 (X11; Linux x86_64) AppleWebKit\\\\/534.30 (KHTML, like Gecko) Ubuntu\\\\/11.04 Chromium\\\\/12.0.742.112 Chrome\\\\/12.0.742.112 Safari\\\\/534.30\",\"2\":\"Mozilla\\\\/5.0 (Windows NT 6.2; Win64; x64; rv:21.0.0) Gecko\\\\/20121011 Firefox\\\\/21.0.0\",\"3\":\"Mozilla\\\\/5.0 (Windows NT 6.2; WOW64) AppleWebKit\\\\/537.11 (KHTML, like Gecko) Chrome\\\\/23.0.1271.17 Safari\\\\/537.11\",\"4\":\"Mozilla\\\\/5.0 (Windows NT 6.0) AppleWebKit\\\\/535.1 (KHTML, like Gecko) Chrome\\\\/13.0.782.1 Safari\\\\/535.1\",\"5\":\"Mozilla\\\\/5.0 (Windows; U; Windows NT 6.0; nb-NO) AppleWebKit\\\\/533.18.1 (KHTML, like Gecko) Version\\\\/5.0.2 Safari\\\\/533.18.5\",\"6\":\"Mozilla\\\\/5.0 (Windows; U; Windows NT 5.1; ru-RU) AppleWebKit\\\\/533.18.1 (KHTML, like Gecko) Version\\\\/5.0.2 Safari\\\\/533.18.5\",\"7\":\"Mozilla\\\\/5.0 (X11; Linux amd64) AppleWebKit\\\\/534.36 (KHTML, like Gecko) Chrome\\\\/13.0.766.0 Safari\\\\/534.36\",\"8\":\"Mozilla\\\\/5.0 (Macintosh; U; PPC Mac OS X 10_4_11; de) AppleWebKit\\\\/528.4+ (KHTML, like Gecko) Version\\\\/4.0dp1 Safari\\\\/526.11.2\",\"9\":\"Mozilla\\\\/5.0 (Macintosh; Intel Mac OS X 10_8_2) AppleWebKit\\\\/537.11 (KHTML, like Gecko) Chrome\\\\/23.0.1271.6 Safari\\\\/537.11\",\"10\":\"Mozilla\\\\/5.0 (Windows NT 5.2) AppleWebKit\\\\/535.1 (KHTML, like Gecko) Chrome\\\\/14.0.792.0 Safari\\\\/535.1\",\"11\":\"Mozilla\\\\/5.0 (X11; CrOS i686 4319.74.0) AppleWebKit\\\\/537.36 (KHTML, like Gecko) Chrome\\\\/29.0.1547.57 Safari\\\\/537.36\",\"12\":\"Mozilla\\\\/5.0 (Windows; U; Windows NT 5.1; ru-RU) AppleWebKit\\\\/533.19.4 (KHTML, like Gecko) Version\\\\/5.0.3 Safari\\\\/533.19.4\",\"13\":\"Mozilla\\\\/5.0 (Windows; U; Windows NT 5.0; en-en) AppleWebKit\\\\/533.16 (KHTML, like Gecko) Version\\\\/4.1 Safari\\\\/533.16\",\"14\":\"Mozilla\\\\/5.0 (X11; Linux i686) AppleWebKit\\\\/534.24 (KHTML, like Gecko) Chrome\\\\/11.0.696.14 Safari\\\\/534.24\",\"15\":\"Mozilla\\\\/5.0 (Windows NT 5.1) AppleWebKit\\\\/535.2 (KHTML, like Gecko) Chrome\\\\/15.0.872.0 Safari\\\\/535.2\",\"16\":\"Mozilla\\\\/5.0 (Windows NT 5.2) AppleWebKit\\\\/535.1 (KHTML, like Gecko) Chrome\\\\/14.0.813.0 Safari\\\\/535.1\",\"17\":\"Mozilla\\\\/5.0 (Windows NT 5.1; rv:31.0) Gecko\\\\/20100101 Firefox\\\\/31.0\",\"18\":\"Mozilla\\\\/5.0 (X11; Linux x86_64) AppleWebKit\\\\/534.24 (KHTML, like Gecko) Chrome\\\\/11.0.696.3 Safari\\\\/534.24\",\"19\":\"Mozilla\\\\/5.0 (X11; Linux i686) AppleWebKit\\\\/534.24 (KHTML, like Gecko) Ubuntu\\\\/10.10 Chromium\\\\/12.0.702.0 Chrome\\\\/12.0.702.0 Safari\\\\/534.24\",\"20\":\"Mozilla\\\\/5.0 (Windows NT 6.2) AppleWebKit\\\\/536.3 (KHTML, like Gecko) Chrome\\\\/19.0.1061.0 Safari\\\\/536.3\",\"21\":\"Mozilla\\\\/5.0 (Macintosh; U; PPC Mac OS X 10_4_11; de-de) AppleWebKit\\\\/533.16 (KHTML, like Gecko) Version\\\\/4.1 Safari\\\\/533.16\",\"22\":\"Mozilla\\\\/5.0 (Windows NT 5.1) AppleWebKit\\\\/535.2 (KHTML, like Gecko) Chrome\\\\/15.0.872.0 Safari\\\\/535.2\",\"23\":\"Mozilla\\\\/5.0 (Macintosh; U; Intel Mac OS X 10_6_7; ja-jp) AppleWebKit\\\\/533.20.25 (KHTML, like Gecko) Version\\\\/5.0.4 Safari\\\\/533.20.27\",\"24\":\"Mozilla\\\\/5.0 (Windows NT 6.1; WOW64) AppleWebKit\\\\/536.3 (KHTML, like Gecko) Chrome\\\\/19.0.1063.0 Safari\\\\/536.3\",\"25\":\"Mozilla\\\\/5.0 (iPad; CPU OS 6_0 like Mac OS X) AppleWebKit\\\\/536.26 (KHTML, like Gecko) Version\\\\/6.0 Mobile\\\\/10A5355d Safari\\\\/8536.25\",\"26\":\"Mozilla\\\\/5.0 (Windows NT 5.1) AppleWebKit\\\\/537.36 (KHTML, like Gecko) Chrome\\\\/41.0.2224.3 Safari\\\\/537.36\",\"27\":\"Mozilla\\\\/6.0 (Macintosh; I; Intel Mac OS X 11_7_9; de-LI; rv:1.9b4) Gecko\\\\/2012010317 Firefox\\\\/10.0a4\",\"28\":\"Mozilla\\\\/5.0 (Macintosh; Intel Mac OS X 10_7_2) AppleWebKit\\\\/535.19 (KHTML, like Gecko) Chrome\\\\/18.0.1025.45 Safari\\\\/535.19\",\"29\":\"Mozilla\\\\/5.0 (X11; Linux i686) AppleWebKit\\\\/535.11 (KHTML, like Gecko) Chrome\\\\/17.0.963.66 Safari\\\\/535.11\"}}'"
      ]
     },
     "execution_count": 97,
     "metadata": {},
     "output_type": "execute_result"
    }
   ],
   "source": [
    "# df.head()\n",
    "# data"
   ]
  },
  {
   "cell_type": "code",
   "execution_count": 108,
   "id": "cf6a3565",
   "metadata": {},
   "outputs": [
    {
     "data": {
      "text/plain": [
       "dict_keys(['users', 'total', 'skip', 'limit'])"
      ]
     },
     "execution_count": 108,
     "metadata": {},
     "output_type": "execute_result"
    }
   ],
   "source": [
    "data.keys()\n"
   ]
  },
  {
   "cell_type": "code",
   "execution_count": 109,
   "id": "e40f68ae",
   "metadata": {
    "scrolled": true
   },
   "outputs": [
    {
     "data": {
      "text/plain": [
       "'Nashville'"
      ]
     },
     "execution_count": 109,
     "metadata": {},
     "output_type": "execute_result"
    }
   ],
   "source": [
    "data[\"users\"][0]['company']['address']['city']"
   ]
  },
  {
   "cell_type": "code",
   "execution_count": 110,
   "id": "5cde3342",
   "metadata": {},
   "outputs": [
    {
     "name": "stdout",
     "output_type": "stream",
     "text": [
      "[{'id': 1, 'firstName': 'Terry', 'lastName': 'Medhurst', 'university': 'Capitol University', 'bank currency': 'Peso', 'company Headquarter': 'Nashville'}, {'id': 2, 'firstName': 'Sheldon', 'lastName': 'Quigley', 'university': 'Stavropol State Technical University', 'bank currency': 'Ruble', 'company Headquarter': 'Glendale'}, {'id': 3, 'firstName': 'Terrill', 'lastName': 'Hills', 'university': 'University of Cagayan Valley', 'bank currency': 'Peso', 'company Headquarter': 'Essex'}, {'id': 4, 'firstName': 'Miles', 'lastName': 'Cummerata', 'university': 'Shenyang Pharmaceutical University', 'bank currency': 'Yuan Renminbi', 'company Headquarter': 'Manchester'}, {'id': 5, 'firstName': 'Mavis', 'lastName': 'Schultz', 'university': 'Estonian University of Life Sciences', 'bank currency': 'Euro', 'company Headquarter': 'Glendale'}, {'id': 6, 'firstName': 'Alison', 'lastName': 'Reichert', 'university': 'Universidade da Beira Interior', 'bank currency': 'Euro', 'company Headquarter': 'Glendale'}, {'id': 7, 'firstName': 'Oleta', 'lastName': 'Abbott', 'university': 'Institut Sains dan Teknologi Al Kamal', 'bank currency': 'Rupiah', 'company Headquarter': 'Crofton'}, {'id': 8, 'firstName': 'Ewell', 'lastName': 'Mueller', 'university': 'Wenzhou Medical College', 'bank currency': 'Yuan Renminbi', 'company Headquarter': 'Washington'}, {'id': 9, 'firstName': 'Demetrius', 'lastName': 'Corkery', 'university': 'Nanjing University of Economics', 'bank currency': 'Yuan Renminbi', 'company Headquarter': 'Arvada'}, {'id': 10, 'firstName': 'Eleanora', 'lastName': 'Price', 'university': 'Melaka City Polytechnic', 'bank currency': 'Ringgit', 'company Headquarter': 'Fayetteville'}, {'id': 11, 'firstName': 'Marcel', 'lastName': 'Jones', 'university': 'Hodeidah University', 'bank currency': 'Rial', 'company Headquarter': 'Glen Burnie'}, {'id': 12, 'firstName': 'Assunta', 'lastName': 'Rath', 'university': 'Kiev Slavonic University', 'bank currency': 'Hryvnia', 'company Headquarter': ''}, {'id': 13, 'firstName': 'Trace', 'lastName': 'Douglas', 'university': 'Dallas Christian College', 'bank currency': 'Dollar', 'company Headquarter': 'Manchester'}, {'id': 14, 'firstName': 'Enoch', 'lastName': 'Lynch', 'university': 'University of Sri Jayawardenapura', 'bank currency': 'Rupee', 'company Headquarter': 'Carson'}, {'id': 15, 'firstName': 'Jeanne', 'lastName': 'Halvorson', 'university': 'Donghua University, Shanghai', 'bank currency': 'Yuan Renminbi', 'company Headquarter': 'Salinas'}, {'id': 16, 'firstName': 'Trycia', 'lastName': 'Fadel', 'university': 'Technical University of Mining and Metallurgy Ostrava', 'bank currency': 'Koruna', 'company Headquarter': 'Crofton'}, {'id': 17, 'firstName': 'Bradford', 'lastName': 'Prohaska', 'university': 'Technical University of Mining and Metallurgy Ostrava', 'bank currency': 'Koruna', 'company Headquarter': 'Foresthill'}, {'id': 18, 'firstName': 'Arely', 'lastName': 'Skiles', 'university': 'Universidade Estadual do Ceará', 'bank currency': 'Real', 'company Headquarter': 'Fayetteville'}, {'id': 19, 'firstName': 'Gust', 'lastName': 'Purdy', 'university': 'Xinjiang University', 'bank currency': 'Yuan Renminbi', 'company Headquarter': 'Arvada'}, {'id': 20, 'firstName': 'Lenna', 'lastName': 'Renner', 'university': 'Moraine Valley Community College', 'bank currency': 'Dollar', 'company Headquarter': 'Grand Junction'}, {'id': 21, 'firstName': 'Doyle', 'lastName': 'Ernser', 'university': 'Nanjing University of Traditional Chinese Medicine', 'bank currency': 'Yuan Renminbi', 'company Headquarter': 'Deale'}, {'id': 22, 'firstName': 'Tressa', 'lastName': 'Weber', 'university': 'Universitat Rámon Llull', 'bank currency': 'Euro', 'company Headquarter': 'Anchorage'}, {'id': 23, 'firstName': 'Felicity', 'lastName': \"O'Reilly\", 'university': 'University of lloilo', 'bank currency': 'Peso', 'company Headquarter': 'Fayetteville'}, {'id': 24, 'firstName': 'Jocelyn', 'lastName': 'Schuster', 'university': 'Bashkir State Medical University', 'bank currency': 'Ruble', 'company Headquarter': 'Holyoke'}, {'id': 25, 'firstName': 'Edwina', 'lastName': 'Ernser', 'university': 'Wuhan University of Technology', 'bank currency': 'Yuan Renminbi', 'company Headquarter': 'Santa Cruz'}, {'id': 26, 'firstName': 'Griffin', 'lastName': 'Braun', 'university': 'Universitas Bojonegoro', 'bank currency': 'Rupiah', 'company Headquarter': 'Washington'}, {'id': 27, 'firstName': 'Piper', 'lastName': 'Schowalter', 'university': 'Sultanah Bahiyah Polytechnic', 'bank currency': 'Ringgit', 'company Headquarter': 'Anchorage'}, {'id': 28, 'firstName': 'Kody', 'lastName': 'Terry', 'university': 'Science University of Tokyo', 'bank currency': 'Yen', 'company Headquarter': 'Burlington'}, {'id': 29, 'firstName': 'Macy', 'lastName': 'Greenfelder', 'university': \"Fuji Women's College\", 'bank currency': 'Yen', 'company Headquarter': 'Nashville'}, {'id': 30, 'firstName': 'Maurine', 'lastName': 'Stracke', 'university': 'Poznan School of Banking', 'bank currency': 'Zloty', 'company Headquarter': 'Anchorage'}]\n"
     ]
    }
   ],
   "source": [
    "ls=[]\n",
    "for i in data[\"users\"]:\n",
    "    dct={}\n",
    "    dct['id']=i['id']\n",
    "    dct['firstName']=i['firstName']\n",
    "    dct['lastName']=i['lastName']\n",
    "    dct['university']=i['university']\n",
    "    dct['bank currency']=i['bank']['currency'] \n",
    "    #make sure if there are a null value in json object we should use .get function (key, '')that mean get key and \n",
    "    dct['company Headquarter']=i['company']['address'].get('city', '') \n",
    "    ls.append(dct)\n",
    "print(ls)\n"
   ]
  },
  {
   "cell_type": "code",
   "execution_count": 111,
   "id": "ead715a5",
   "metadata": {},
   "outputs": [],
   "source": [
    "field_name1=['id', 'firstName','lastName','university','bank currency','company Headquarter']\n",
    "with open('output.csv',mode='w',newline='') as pushdata:\n",
    "    write=csv.DictWriter(pushdata,fieldnames=field_name1)\n",
    "    write.writeheader()\n",
    "    write.writerows(ls)"
   ]
  },
  {
   "cell_type": "code",
   "execution_count": 112,
   "id": "e0c6caea",
   "metadata": {},
   "outputs": [
    {
     "name": "stdout",
     "output_type": "stream",
     "text": [
      "[{'company': 'Nashville'}, {'company': 'Glendale'}, {'company': 'Essex'}, {'company': 'Manchester'}, {'company': 'Glendale'}, {'company': 'Glendale'}, {'company': 'Crofton'}, {'company': 'Washington'}, {'company': 'Arvada'}, {'company': 'Fayetteville'}, {'company': 'Glen Burnie'}, {}, {'company': 'Manchester'}, {'company': 'Carson'}, {'company': 'Salinas'}, {'company': 'Crofton'}, {'company': 'Foresthill'}, {'company': 'Fayetteville'}, {'company': 'Arvada'}, {'company': 'Grand Junction'}, {'company': 'Deale'}, {'company': 'Anchorage'}, {'company': 'Fayetteville'}, {'company': 'Holyoke'}, {'company': 'Santa Cruz'}, {'company': 'Washington'}, {'company': 'Anchorage'}, {'company': 'Burlington'}, {'company': 'Nashville'}, {'company': 'Anchorage'}]\n"
     ]
    }
   ],
   "source": [
    "ls1 = []\n",
    "for i in data['users']:\n",
    "    dct = {}\n",
    "    if 'company' in i  and 'address' in i['company'] and 'city' in i['company']['address']:\n",
    "        dct['company'] = i['company']['address']['city']\n",
    "    ls1.append(dct)\n",
    "print(ls1)\n"
   ]
  },
  {
   "cell_type": "code",
   "execution_count": 113,
   "id": "2319755d",
   "metadata": {},
   "outputs": [
    {
     "name": "stdout",
     "output_type": "stream",
     "text": [
      "[{'id': 1, 'firstName': 'Terry', 'lastName': 'Medhurst', 'university': 'Capitol University', 'bank currency': 'Peso', 'company': 'Nashville'}, {'id': 2, 'firstName': 'Sheldon', 'lastName': 'Quigley', 'university': 'Stavropol State Technical University', 'bank currency': 'Ruble', 'company': 'Glendale'}, {'id': 3, 'firstName': 'Terrill', 'lastName': 'Hills', 'university': 'University of Cagayan Valley', 'bank currency': 'Peso', 'company': 'Essex'}, {'id': 4, 'firstName': 'Miles', 'lastName': 'Cummerata', 'university': 'Shenyang Pharmaceutical University', 'bank currency': 'Yuan Renminbi', 'company': 'Manchester'}, {'id': 5, 'firstName': 'Mavis', 'lastName': 'Schultz', 'university': 'Estonian University of Life Sciences', 'bank currency': 'Euro', 'company': 'Glendale'}, {'id': 6, 'firstName': 'Alison', 'lastName': 'Reichert', 'university': 'Universidade da Beira Interior', 'bank currency': 'Euro', 'company': 'Glendale'}, {'id': 7, 'firstName': 'Oleta', 'lastName': 'Abbott', 'university': 'Institut Sains dan Teknologi Al Kamal', 'bank currency': 'Rupiah', 'company': 'Crofton'}, {'id': 8, 'firstName': 'Ewell', 'lastName': 'Mueller', 'university': 'Wenzhou Medical College', 'bank currency': 'Yuan Renminbi', 'company': 'Washington'}, {'id': 9, 'firstName': 'Demetrius', 'lastName': 'Corkery', 'university': 'Nanjing University of Economics', 'bank currency': 'Yuan Renminbi', 'company': 'Arvada'}, {'id': 10, 'firstName': 'Eleanora', 'lastName': 'Price', 'university': 'Melaka City Polytechnic', 'bank currency': 'Ringgit', 'company': 'Fayetteville'}, {'id': 11, 'firstName': 'Marcel', 'lastName': 'Jones', 'university': 'Hodeidah University', 'bank currency': 'Rial', 'company': 'Glen Burnie'}, {'id': 12, 'firstName': 'Assunta', 'lastName': 'Rath', 'university': 'Kiev Slavonic University', 'bank currency': 'Hryvnia', 'company': ''}, {'id': 13, 'firstName': 'Trace', 'lastName': 'Douglas', 'university': 'Dallas Christian College', 'bank currency': 'Dollar', 'company': 'Manchester'}, {'id': 14, 'firstName': 'Enoch', 'lastName': 'Lynch', 'university': 'University of Sri Jayawardenapura', 'bank currency': 'Rupee', 'company': 'Carson'}, {'id': 15, 'firstName': 'Jeanne', 'lastName': 'Halvorson', 'university': 'Donghua University, Shanghai', 'bank currency': 'Yuan Renminbi', 'company': 'Salinas'}, {'id': 16, 'firstName': 'Trycia', 'lastName': 'Fadel', 'university': 'Technical University of Mining and Metallurgy Ostrava', 'bank currency': 'Koruna', 'company': 'Crofton'}, {'id': 17, 'firstName': 'Bradford', 'lastName': 'Prohaska', 'university': 'Technical University of Mining and Metallurgy Ostrava', 'bank currency': 'Koruna', 'company': 'Foresthill'}, {'id': 18, 'firstName': 'Arely', 'lastName': 'Skiles', 'university': 'Universidade Estadual do Ceará', 'bank currency': 'Real', 'company': 'Fayetteville'}, {'id': 19, 'firstName': 'Gust', 'lastName': 'Purdy', 'university': 'Xinjiang University', 'bank currency': 'Yuan Renminbi', 'company': 'Arvada'}, {'id': 20, 'firstName': 'Lenna', 'lastName': 'Renner', 'university': 'Moraine Valley Community College', 'bank currency': 'Dollar', 'company': 'Grand Junction'}, {'id': 21, 'firstName': 'Doyle', 'lastName': 'Ernser', 'university': 'Nanjing University of Traditional Chinese Medicine', 'bank currency': 'Yuan Renminbi', 'company': 'Deale'}, {'id': 22, 'firstName': 'Tressa', 'lastName': 'Weber', 'university': 'Universitat Rámon Llull', 'bank currency': 'Euro', 'company': 'Anchorage'}, {'id': 23, 'firstName': 'Felicity', 'lastName': \"O'Reilly\", 'university': 'University of lloilo', 'bank currency': 'Peso', 'company': 'Fayetteville'}, {'id': 24, 'firstName': 'Jocelyn', 'lastName': 'Schuster', 'university': 'Bashkir State Medical University', 'bank currency': 'Ruble', 'company': 'Holyoke'}, {'id': 25, 'firstName': 'Edwina', 'lastName': 'Ernser', 'university': 'Wuhan University of Technology', 'bank currency': 'Yuan Renminbi', 'company': 'Santa Cruz'}, {'id': 26, 'firstName': 'Griffin', 'lastName': 'Braun', 'university': 'Universitas Bojonegoro', 'bank currency': 'Rupiah', 'company': 'Washington'}, {'id': 27, 'firstName': 'Piper', 'lastName': 'Schowalter', 'university': 'Sultanah Bahiyah Polytechnic', 'bank currency': 'Ringgit', 'company': 'Anchorage'}, {'id': 28, 'firstName': 'Kody', 'lastName': 'Terry', 'university': 'Science University of Tokyo', 'bank currency': 'Yen', 'company': 'Burlington'}, {'id': 29, 'firstName': 'Macy', 'lastName': 'Greenfelder', 'university': \"Fuji Women's College\", 'bank currency': 'Yen', 'company': 'Nashville'}, {'id': 30, 'firstName': 'Maurine', 'lastName': 'Stracke', 'university': 'Poznan School of Banking', 'bank currency': 'Zloty', 'company': 'Anchorage'}]\n"
     ]
    }
   ],
   "source": [
    "ls = []\n",
    "for i in data[\"users\"]:\n",
    "    dct = {}\n",
    "    dct['id'] = i['id']\n",
    "    dct['firstName'] = i['firstName']\n",
    "    dct['lastName'] = i['lastName']\n",
    "    dct['university'] = i.get('university', '')  # set default value to '' if key is not present\n",
    "    dct['bank currency'] = i['bank'].get('currency', '')  # set default value to '' if key is not present\n",
    "    if 'company' in i and 'address' in i['company'] and 'city' in i['company']['address']:\n",
    "        dct['company'] = i['company']['address']['city']\n",
    "    else:\n",
    "        dct['company'] = ''\n",
    "    ls.append(dct)\n",
    "print(ls)\n"
   ]
  },
  {
   "cell_type": "code",
   "execution_count": null,
   "id": "1a68038c",
   "metadata": {},
   "outputs": [],
   "source": []
  }
 ],
 "metadata": {
  "kernelspec": {
   "display_name": "Python 3 (ipykernel)",
   "language": "python",
   "name": "python3"
  },
  "language_info": {
   "codemirror_mode": {
    "name": "ipython",
    "version": 3
   },
   "file_extension": ".py",
   "mimetype": "text/x-python",
   "name": "python",
   "nbconvert_exporter": "python",
   "pygments_lexer": "ipython3",
   "version": "3.9.12"
  }
 },
 "nbformat": 4,
 "nbformat_minor": 5
}
